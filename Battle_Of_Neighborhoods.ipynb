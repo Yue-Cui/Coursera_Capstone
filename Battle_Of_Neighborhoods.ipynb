{
 "cells": [
  {
   "cell_type": "markdown",
   "metadata": {},
   "source": [
    "## IBM Data Science Capstone Proejct"
   ]
  },
  {
   "cell_type": "code",
   "execution_count": null,
   "metadata": {},
   "outputs": [],
   "source": []
  },
  {
   "cell_type": "code",
   "execution_count": null,
   "metadata": {},
   "outputs": [],
   "source": []
  },
  {
   "cell_type": "code",
   "execution_count": null,
   "metadata": {},
   "outputs": [],
   "source": []
  },
  {
   "cell_type": "markdown",
   "metadata": {},
   "source": [
    "#### First import everything"
   ]
  },
  {
   "cell_type": "code",
   "execution_count": 1,
   "metadata": {},
   "outputs": [],
   "source": [
    "import pandas as pd\n",
    "import numpy as np\n",
    "from bs4 import BeautifulSoup\n",
    "import requests\n",
    "from pandas.io.json import json_normalize\n",
    "import matplotlib.cm as cm\n",
    "import matplotlib.colors as colors\n",
    "from sklearn.cluster import KMeans"
   ]
  },
  {
   "cell_type": "code",
   "execution_count": null,
   "metadata": {},
   "outputs": [],
   "source": []
  },
  {
   "cell_type": "code",
   "execution_count": null,
   "metadata": {},
   "outputs": [],
   "source": []
  },
  {
   "cell_type": "markdown",
   "metadata": {},
   "source": [
    "#### get the data"
   ]
  },
  {
   "cell_type": "code",
   "execution_count": null,
   "metadata": {},
   "outputs": [],
   "source": []
  },
  {
   "cell_type": "code",
   "execution_count": null,
   "metadata": {},
   "outputs": [],
   "source": []
  },
  {
   "cell_type": "code",
   "execution_count": 9,
   "metadata": {},
   "outputs": [
    {
     "data": {
      "text/html": [
       "<div>\n",
       "<style scoped>\n",
       "    .dataframe tbody tr th:only-of-type {\n",
       "        vertical-align: middle;\n",
       "    }\n",
       "\n",
       "    .dataframe tbody tr th {\n",
       "        vertical-align: top;\n",
       "    }\n",
       "\n",
       "    .dataframe thead th {\n",
       "        text-align: right;\n",
       "    }\n",
       "</style>\n",
       "<table border=\"1\" class=\"dataframe\">\n",
       "  <thead>\n",
       "    <tr style=\"text-align: right;\">\n",
       "      <th></th>\n",
       "      <th>PostalCode</th>\n",
       "      <th>Neighborhood</th>\n",
       "    </tr>\n",
       "  </thead>\n",
       "  <tbody>\n",
       "    <tr>\n",
       "      <th>0</th>\n",
       "      <td>90002</td>\n",
       "      <td>Los Angeles (Southeast Los Angeles, Watts</td>\n",
       "    </tr>\n",
       "    <tr>\n",
       "      <th>1</th>\n",
       "      <td>90003</td>\n",
       "      <td>Los Angeles (South Los Angeles, Southeast Los ...</td>\n",
       "    </tr>\n",
       "    <tr>\n",
       "      <th>2</th>\n",
       "      <td>90004</td>\n",
       "      <td>Los Angeles (Hancock Park, Rampart Village, Vi...</td>\n",
       "    </tr>\n",
       "    <tr>\n",
       "      <th>3</th>\n",
       "      <td>90005</td>\n",
       "      <td>Los Angeles (Hancock Park, Koreatown, Wilshire...</td>\n",
       "    </tr>\n",
       "    <tr>\n",
       "      <th>4</th>\n",
       "      <td>90006</td>\n",
       "      <td>Los Angeles (Byzantine-Latino Quarter, Harvard...</td>\n",
       "    </tr>\n",
       "  </tbody>\n",
       "</table>\n",
       "</div>"
      ],
      "text/plain": [
       "  PostalCode                                       Neighborhood\n",
       "0      90002          Los Angeles (Southeast Los Angeles, Watts\n",
       "1      90003  Los Angeles (South Los Angeles, Southeast Los ...\n",
       "2      90004  Los Angeles (Hancock Park, Rampart Village, Vi...\n",
       "3      90005  Los Angeles (Hancock Park, Koreatown, Wilshire...\n",
       "4      90006  Los Angeles (Byzantine-Latino Quarter, Harvard..."
      ]
     },
     "execution_count": 9,
     "metadata": {},
     "output_type": "execute_result"
    }
   ],
   "source": [
    "LA = requests.get('http://www.laalmanac.com/communications/cm02a90001-90899.php').text\n",
    "soup = BeautifulSoup(LA, \"lxml\")\n",
    "\n",
    "#create data frame\n",
    "PostalCode = []\n",
    "Neighborhood = []\n",
    "\n",
    "for fields in soup.tbody.find_all('tr')[1:]:\n",
    "    PostalCode.append(fields.find('td').text)\n",
    "    \n",
    "    Neighborhood.append(fields.find_all('td')[1].text[:-1])\n",
    "    \n",
    "\n",
    "df_data = {\"PostalCode\": PostalCode,\n",
    "        \"Neighborhood\": Neighborhood}\n",
    "df = pd.DataFrame(df_data)\n",
    "\n",
    "# #\n",
    "df = df.reset_index().drop('index', axis = 1)\n",
    "df.head()\n"
   ]
  },
  {
   "cell_type": "code",
   "execution_count": null,
   "metadata": {},
   "outputs": [],
   "source": []
  },
  {
   "cell_type": "code",
   "execution_count": null,
   "metadata": {},
   "outputs": [],
   "source": []
  },
  {
   "cell_type": "code",
   "execution_count": null,
   "metadata": {},
   "outputs": [],
   "source": []
  },
  {
   "cell_type": "code",
   "execution_count": null,
   "metadata": {},
   "outputs": [],
   "source": []
  },
  {
   "cell_type": "code",
   "execution_count": null,
   "metadata": {},
   "outputs": [],
   "source": []
  },
  {
   "cell_type": "code",
   "execution_count": null,
   "metadata": {},
   "outputs": [],
   "source": []
  },
  {
   "cell_type": "code",
   "execution_count": 6,
   "metadata": {},
   "outputs": [
    {
     "data": {
      "text/html": [
       "<div>\n",
       "<style scoped>\n",
       "    .dataframe tbody tr th:only-of-type {\n",
       "        vertical-align: middle;\n",
       "    }\n",
       "\n",
       "    .dataframe tbody tr th {\n",
       "        vertical-align: top;\n",
       "    }\n",
       "\n",
       "    .dataframe thead th {\n",
       "        text-align: right;\n",
       "    }\n",
       "</style>\n",
       "<table border=\"1\" class=\"dataframe\">\n",
       "  <thead>\n",
       "    <tr style=\"text-align: right;\">\n",
       "      <th></th>\n",
       "      <th>PostalCode</th>\n",
       "      <th>Neighborhood</th>\n",
       "    </tr>\n",
       "  </thead>\n",
       "  <tbody>\n",
       "    <tr>\n",
       "      <th>0</th>\n",
       "      <td>90002</td>\n",
       "      <td>Los Angeles (Southeast Los Angeles, Watts</td>\n",
       "    </tr>\n",
       "    <tr>\n",
       "      <th>1</th>\n",
       "      <td>90003</td>\n",
       "      <td>Los Angeles (South Los Angeles, Southeast Los ...</td>\n",
       "    </tr>\n",
       "    <tr>\n",
       "      <th>2</th>\n",
       "      <td>90004</td>\n",
       "      <td>Los Angeles (Hancock Park, Rampart Village, Vi...</td>\n",
       "    </tr>\n",
       "    <tr>\n",
       "      <th>3</th>\n",
       "      <td>90005</td>\n",
       "      <td>Los Angeles (Hancock Park, Koreatown, Wilshire...</td>\n",
       "    </tr>\n",
       "    <tr>\n",
       "      <th>4</th>\n",
       "      <td>90006</td>\n",
       "      <td>Los Angeles (Byzantine-Latino Quarter, Harvard...</td>\n",
       "    </tr>\n",
       "    <tr>\n",
       "      <th>5</th>\n",
       "      <td>90007</td>\n",
       "      <td>Los Angeles (Southeast Los Angeles, Univerity ...</td>\n",
       "    </tr>\n",
       "    <tr>\n",
       "      <th>6</th>\n",
       "      <td>90008</td>\n",
       "      <td>Los Angeles (Baldwin Hills, Crenshaw, Leimert ...</td>\n",
       "    </tr>\n",
       "    <tr>\n",
       "      <th>7</th>\n",
       "      <td>90009</td>\n",
       "      <td>Los Angeles (Los Angeles International Airport...</td>\n",
       "    </tr>\n",
       "    <tr>\n",
       "      <th>8</th>\n",
       "      <td>90010</td>\n",
       "      <td>Los Angeles (Hancock Park, Wilshire Center, Wi...</td>\n",
       "    </tr>\n",
       "    <tr>\n",
       "      <th>9</th>\n",
       "      <td>90011</td>\n",
       "      <td>Los Angeles (Southeast Los Angeles</td>\n",
       "    </tr>\n",
       "  </tbody>\n",
       "</table>\n",
       "</div>"
      ],
      "text/plain": [
       "  PostalCode                                       Neighborhood\n",
       "0      90002          Los Angeles (Southeast Los Angeles, Watts\n",
       "1      90003  Los Angeles (South Los Angeles, Southeast Los ...\n",
       "2      90004  Los Angeles (Hancock Park, Rampart Village, Vi...\n",
       "3      90005  Los Angeles (Hancock Park, Koreatown, Wilshire...\n",
       "4      90006  Los Angeles (Byzantine-Latino Quarter, Harvard...\n",
       "5      90007  Los Angeles (Southeast Los Angeles, Univerity ...\n",
       "6      90008  Los Angeles (Baldwin Hills, Crenshaw, Leimert ...\n",
       "7      90009  Los Angeles (Los Angeles International Airport...\n",
       "8      90010  Los Angeles (Hancock Park, Wilshire Center, Wi...\n",
       "9      90011                 Los Angeles (Southeast Los Angeles"
      ]
     },
     "execution_count": 6,
     "metadata": {},
     "output_type": "execute_result"
    }
   ],
   "source": [
    "# combine the neighbourhoods with the same zip code\n",
    "i = 1\n",
    "while(i < len(df)):\n",
    "    if df['PostalCode'].iloc[i] == df['PostalCode'].iloc[i - 1]:\n",
    "        df.at[i - 1, 'Neighborhood'] = df.Neighborhood.iloc[i - 1] +', ' + df.Neighborhood.iloc[i]\n",
    "        df.drop(index = i, inplace = True)\n",
    "        df = df.reset_index().drop('index', axis = 1)\n",
    "    else:\n",
    "        i += 1\n",
    "        \n",
    "\n",
    "df.head(10)"
   ]
  },
  {
   "cell_type": "code",
   "execution_count": null,
   "metadata": {},
   "outputs": [],
   "source": []
  },
  {
   "cell_type": "code",
   "execution_count": 7,
   "metadata": {},
   "outputs": [
    {
     "data": {
      "text/plain": [
       "(257, 2)"
      ]
     },
     "execution_count": 7,
     "metadata": {},
     "output_type": "execute_result"
    }
   ],
   "source": [
    "df.shape"
   ]
  },
  {
   "cell_type": "code",
   "execution_count": null,
   "metadata": {},
   "outputs": [],
   "source": []
  },
  {
   "cell_type": "code",
   "execution_count": null,
   "metadata": {},
   "outputs": [],
   "source": []
  },
  {
   "cell_type": "code",
   "execution_count": null,
   "metadata": {},
   "outputs": [],
   "source": []
  },
  {
   "cell_type": "code",
   "execution_count": null,
   "metadata": {},
   "outputs": [],
   "source": []
  },
  {
   "cell_type": "code",
   "execution_count": null,
   "metadata": {},
   "outputs": [],
   "source": []
  },
  {
   "cell_type": "code",
   "execution_count": null,
   "metadata": {},
   "outputs": [],
   "source": []
  },
  {
   "cell_type": "markdown",
   "metadata": {},
   "source": [
    "## Part 3: clustering and segmentation"
   ]
  },
  {
   "cell_type": "code",
   "execution_count": null,
   "metadata": {},
   "outputs": [],
   "source": [
    "import folium\n"
   ]
  },
  {
   "cell_type": "markdown",
   "metadata": {},
   "source": [
    "#### this is from the foursquare api class"
   ]
  },
  {
   "cell_type": "code",
   "execution_count": null,
   "metadata": {},
   "outputs": [],
   "source": []
  },
  {
   "cell_type": "code",
   "execution_count": null,
   "metadata": {},
   "outputs": [],
   "source": []
  },
  {
   "cell_type": "code",
   "execution_count": 118,
   "metadata": {},
   "outputs": [],
   "source": [
    "def getNearbyVenues(names, latitudes, longitudes, radius=500, limit=100, version='20181111'):\n",
    "    venues_list=[]\n",
    "    for name, lat, lng in zip(names, latitudes, longitudes):\n",
    "        # create the API request URL\n",
    "        url = 'https://api.foursquare.com/v2/venues/explore?&client_id={}&client_secret={}&v={}&ll={},{}&radius={}&limit={}'.format(\n",
    "            CLIENT_ID = 'VWZTLZYRESSHPHPC140BKKD0JRZ2KJYZ2XLNAZLJML2UFME0', \n",
    "            CLIENT_SECRET = 'CTUN3454OIZ2AAJI4JEL12HRBEPYJGY0PLXKZWHYXYYZLRF1', \n",
    "            version, \n",
    "            lat, \n",
    "            lng, \n",
    "            radius, \n",
    "            limit)\n",
    "            \n",
    "        # make the GET request\n",
    "        results = requests.get(url).json()[\"response\"]['groups'][0]['items']\n",
    "        \n",
    "        # return only relevant information for each nearby venue\n",
    "        venues_list.append([(\n",
    "            name, \n",
    "            v['venue']['name'], \n",
    "            v['venue']['location']['lat'], \n",
    "            v['venue']['location']['lng'],  \n",
    "            v['venue']['categories'][0]['name']) for v in results])\n",
    "\n",
    "    nearby_venues = pd.DataFrame([item for venue_list in venues_list for item in venue_list])\n",
    "    nearby_venues.columns = ['PostalCode', \n",
    "                             'Venue', \n",
    "                             'Venue Latitude', \n",
    "                             'Venue Longitude', \n",
    "                             'Venue Category']\n",
    "    \n",
    "    return(nearby_venues)"
   ]
  },
  {
   "cell_type": "code",
   "execution_count": null,
   "metadata": {},
   "outputs": [],
   "source": []
  },
  {
   "cell_type": "code",
   "execution_count": null,
   "metadata": {},
   "outputs": [],
   "source": []
  },
  {
   "cell_type": "code",
   "execution_count": 119,
   "metadata": {},
   "outputs": [],
   "source": [
    "nearby_venues_df = getNearbyVenues(names=df.PostalCode, latitudes=df.Latitude, longitudes=df.Longitude) # this is a trimmed down version of df"
   ]
  },
  {
   "cell_type": "code",
   "execution_count": 124,
   "metadata": {},
   "outputs": [],
   "source": [
    "#find the number of categories in each postal code \n",
    "categories = nearby_venues_df.groupby('PostalCode').mean()"
   ]
  },
  {
   "cell_type": "code",
   "execution_count": null,
   "metadata": {},
   "outputs": [],
   "source": []
  },
  {
   "cell_type": "code",
   "execution_count": null,
   "metadata": {},
   "outputs": [],
   "source": []
  },
  {
   "cell_type": "code",
   "execution_count": null,
   "metadata": {},
   "outputs": [],
   "source": []
  },
  {
   "cell_type": "markdown",
   "metadata": {},
   "source": [
    "#### clustering starts with a cluster number of 3"
   ]
  },
  {
   "cell_type": "code",
   "execution_count": 126,
   "metadata": {},
   "outputs": [
    {
     "data": {
      "text/plain": [
       "array([0, 0, 0, 0, 0, 0, 0, 0, 0, 0, 0, 0, 0, 0, 0, 0, 0, 0, 1, 1])"
      ]
     },
     "execution_count": 126,
     "metadata": {},
     "output_type": "execute_result"
    }
   ],
   "source": [
    "clusters = 3\n",
    "\n",
    "kmeans = KMeans(n_clusters=clusters, random_state=5).fit(categories) # reproducability\n",
    "\n",
    "# check to make sure categories are normal\n",
    "kmeans.labels_[0:20]"
   ]
  },
  {
   "cell_type": "code",
   "execution_count": null,
   "metadata": {},
   "outputs": [],
   "source": []
  },
  {
   "cell_type": "markdown",
   "metadata": {},
   "source": [
    "#### seems many of them fall into three categoeies pretty evenly "
   ]
  },
  {
   "cell_type": "code",
   "execution_count": 135,
   "metadata": {},
   "outputs": [],
   "source": [
    "df = pd.merge(left=df, right=clusters, on='PostalCode')\n",
    "nearby_venues_df = nearby_venues_df.merge(on='PostalCode', right=clusters)"
   ]
  },
  {
   "cell_type": "code",
   "execution_count": null,
   "metadata": {},
   "outputs": [],
   "source": []
  },
  {
   "cell_type": "code",
   "execution_count": null,
   "metadata": {},
   "outputs": [],
   "source": []
  },
  {
   "cell_type": "markdown",
   "metadata": {},
   "source": [
    "#### generate maps with different colors representing different clusters"
   ]
  },
  {
   "cell_type": "code",
   "execution_count": 132,
   "metadata": {},
   "outputs": [],
   "source": [
    "\n",
    "def make_map(df, label_col='PostalCode'):\n",
    "    latitude, longitude = 34.05, 118.24 # LA coordinates\n",
    "\n",
    "    # create map\n",
    "    map_clusters = folium.Map(location=[latitude, longitude], zoom_start=11)\n",
    "\n",
    "    # set color scheme for the clusters\n",
    "    x = np.arange(df.Cluster.nunique())\n",
    "    ys = [i+x+(i*x)**2 for i in range(kclusters)]\n",
    "    colors_array = cm.Set1(np.linspace(0, 1, len(ys)))\n",
    "    rainbow = [colors.rgb2hex(i) for i in colors_array]\n",
    "\n",
    "    # add markers to the map\n",
    "    markers_colors = []\n",
    "    for lat, lon, poi, cluster in zip(df['Latitude'], df['Longitude'], df[label_col], df['Cluster']):\n",
    "        label = folium.Popup(str(poi) + ' Cluster ' + str(cluster), parse_html=True)\n",
    "        folium.CircleMarker(\n",
    "            [lat, lon],\n",
    "            radius=5,\n",
    "            popup=label,\n",
    "            color=rainbow[cluster-1],\n",
    "            fill=True,\n",
    "            fill_color=rainbow[cluster-1],\n",
    "            fill_opacity=0.5).add_to(map_clusters)\n",
    "    \n",
    "    return map_clusters"
   ]
  },
  {
   "cell_type": "code",
   "execution_count": null,
   "metadata": {},
   "outputs": [],
   "source": [
    "make_map(df)"
   ]
  },
  {
   "cell_type": "markdown",
   "metadata": {},
   "source": [
    "#### list the categories of businesses in each cluster"
   ]
  },
  {
   "cell_type": "code",
   "execution_count": 136,
   "metadata": {},
   "outputs": [],
   "source": [
    "def cluster_summery(df, top=10):\n",
    "    for i in range(df.Cluster.nunique()):\n",
    "        data_slice = df.loc[df.Cluster == i]\n",
    "        summery = data_slice.groupby('Venue Category').count().sort_values(by='Cluster', ascending=False)\n",
    "        print(f'Cluster #{i} summery:')\n",
    "        print(summery.iloc[0:top, 1:2], '\\n')"
   ]
  },
  {
   "cell_type": "code",
   "execution_count": 137,
   "metadata": {},
   "outputs": [
    {
     "name": "stdout",
     "output_type": "stream",
     "text": [
      "Cluster #0 summery:\n",
      "                      Venue\n",
      "Venue Category             \n",
      "Fast Food Restaurant     13\n",
      "Coffee Shop              10\n",
      "Pizza Place               7\n",
      "Clothing Store            7\n",
      "Bakery                    6\n",
      "Breakfast Spot            5\n",
      "Chinese Restaurant        5\n",
      "Skating Rink              4\n",
      "Park                      4\n",
      "Pharmacy                  4 \n",
      "\n",
      "Cluster #1 summery:\n",
      "                     Venue\n",
      "Venue Category            \n",
      "Coffee Shop            178\n",
      "Café                    98\n",
      "Restaurant              57\n",
      "Hotel                   44\n",
      "Italian Restaurant      44\n",
      "Park                    39\n",
      "Bar                     38\n",
      "Japanese Restaurant     37\n",
      "Bakery                  35\n",
      "Pizza Place             35 \n",
      "\n",
      "Cluster #2 summery:\n",
      "                      Venue\n",
      "Venue Category             \n",
      "Pizza Place              12\n",
      "Coffee Shop              12\n",
      "Sandwich Place            9\n",
      "Café                      7\n",
      "Grocery Store             7\n",
      "Park                      7\n",
      "Fast Food Restaurant      6\n",
      "Fried Chicken Joint       5\n",
      "Pharmacy                  5\n",
      "Gym                       4 \n",
      "\n"
     ]
    }
   ],
   "source": [
    "cluster_summery(nearby_venues_df, top=10)"
   ]
  },
  {
   "cell_type": "markdown",
   "metadata": {},
   "source": [
    "#### from the result above, we can see that cluster #1 is the most popular area\n",
    "#### conslusion: cluster #1 is the downtown area, with more merchants and lots of restaurants. #0 and #2 are suburban area with sparsly populated merchants"
   ]
  },
  {
   "cell_type": "code",
   "execution_count": null,
   "metadata": {},
   "outputs": [],
   "source": []
  },
  {
   "cell_type": "code",
   "execution_count": null,
   "metadata": {},
   "outputs": [],
   "source": []
  }
 ],
 "metadata": {
  "kernelspec": {
   "display_name": "Python 3",
   "language": "python",
   "name": "python3"
  },
  "language_info": {
   "codemirror_mode": {
    "name": "ipython",
    "version": 3
   },
   "file_extension": ".py",
   "mimetype": "text/x-python",
   "name": "python",
   "nbconvert_exporter": "python",
   "pygments_lexer": "ipython3",
   "version": "3.6.5"
  }
 },
 "nbformat": 4,
 "nbformat_minor": 2
}
